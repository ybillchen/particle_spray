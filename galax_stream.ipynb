{
 "cells": [
  {
   "cell_type": "markdown",
   "id": "4d1dd9eb-c771-4547-b10d-172fe61cb9ed",
   "metadata": {},
   "source": [
    "# Particle spray algorithm by Chen et al. (2024)\n",
    "\n",
    "Author: Yingtian \"Bill\" Chen\n",
    "\n",
    "We provide a notebook to generate streams using the Chen+24 ([arXiv:2408.01496](https://arxiv.org/abs/2408.01496)) model via `galax`. This implementation has been merged to the `main` branch of `galax` since [this commit](https://github.com/ybillchen/galax_chen24/commit/a663fc1c691e82f4f9b15e07bc68e58758eb169d).\n",
    "\n",
    "Currently, you need to install `galax` from `GitHub` instead of `pypi` to use our model\n",
    "```\n",
    "$ git clone https://github.com/GalacticDynamics/galax.git\n",
    "$ cd galax\n",
    "$ python -m pip install .\n",
    "```\n",
    "If you already have `galax` installed, simply pull the latest updates and reinstall.\n",
    "\n",
    "Note that `galax` curently doesn't support orbit integration with the progenitor's potential, which is required by our default model. Here, we provide an unofficial approach to include the progenitor's potential. "
   ]
  },
  {
   "cell_type": "markdown",
   "id": "421442cf-08da-48bc-bcdf-a006d421f273",
   "metadata": {},
   "source": [
    "## First, let's do particle spray without the progenitor's potential\n",
    "\n",
    "Here is the case of backward integration, which is more commonly used for stream modeling. But you can do forward integration by simply reversing `t_array`."
   ]
  },
  {
   "cell_type": "code",
   "execution_count": 1,
   "id": "3a764d8a-dcd2-47a1-90f3-9e4f8ce3b1a9",
   "metadata": {},
   "outputs": [],
   "source": [
    "import numpy as np\n",
    "import matplotlib.pyplot as plt\n",
    "\n",
    "import jax.random as jr\n",
    "\n",
    "from unxt import Quantity\n",
    "import galax.coordinates as gc\n",
    "import galax.potential as gp\n",
    "import galax.dynamics as gd"
   ]
  },
  {
   "cell_type": "code",
   "execution_count": 2,
   "id": "3197b24b-c4fd-4ced-9660-4a73ec9abaad",
   "metadata": {},
   "outputs": [],
   "source": [
    "pot = gp.BovyMWPotential2014()\n",
    "\n",
    "w = gc.PhaseSpacePosition(q=Quantity([40, 0, 0], \"kpc\"),\n",
    "                          p=Quantity([0, 100, 0], \"km/s\"),\n",
    "                          t=Quantity(0, \"Myr\"))\n",
    "\n",
    "t_array = Quantity(-np.arange(500+1)*6, \"Myr\")\n",
    "prog_mass = Quantity(1e5, \"Msun\")"
   ]
  },
  {
   "cell_type": "code",
   "execution_count": 3,
   "id": "6251c9f8-a432-454b-9a84-c50f994c93b2",
   "metadata": {},
   "outputs": [
    {
     "name": "stdout",
     "output_type": "stream",
     "text": [
      "CPU times: user 11.4 s, sys: 681 ms, total: 12.1 s\n",
      "Wall time: 12.3 s\n"
     ]
    },
    {
     "name": "stderr",
     "output_type": "stream",
     "text": [
      "/Users/ybchen/Documents/galax_chen24/src/galax/dynamics/_dynamics/mockstream/df/chen24.py:52: RuntimeWarning: Currently only the \"no progenitor\" version of the Chen+24 model is supported!\n",
      "  warnings.warn(\n"
     ]
    },
    {
     "name": "stdout",
     "output_type": "stream",
     "text": [
      "CPU times: user 9.33 s, sys: 521 ms, total: 9.85 s\n",
      "Wall time: 10 s\n"
     ]
    }
   ],
   "source": [
    "# Fardal+15\n",
    "df = gd.FardalStreamDF()\n",
    "gen = gd.MockStreamGenerator(df, pot)\n",
    "%time stream_f15, _ = gen.run(jr.key(0), t_array, w, prog_mass)\n",
    "\n",
    "# Chen+24 (no prog.)\n",
    "df = gd.ChenStreamDF()\n",
    "gen = gd.MockStreamGenerator(df, pot)\n",
    "%time stream_c24, _ = gen.run(jr.key(0), t_array, w, prog_mass)"
   ]
  },
  {
   "cell_type": "markdown",
   "id": "13b139d7-fe40-4ce4-9620-e2e37011e3ea",
   "metadata": {},
   "source": [
    "## Now, try to include the progenitor's potential"
   ]
  },
  {
   "cell_type": "code",
   "execution_count": 4,
   "id": "f1802eb8-72a1-4e97-8a6b-88351aefbb2b",
   "metadata": {},
   "outputs": [],
   "source": [
    "import warnings\n",
    "from typing import final, Literal\n",
    "\n",
    "from jax.lib.xla_bridge import get_backend\n",
    "from plum import convert\n",
    "\n",
    "import quaxed.numpy as jnp\n",
    "from coordinax.operators import AbstractOperator\n",
    "from coordinax.operators._base import op_call_dispatch\n",
    "from coordinax import AbstractPosition3D, CartesianPosition3D\n",
    "\n",
    "from galax.typing import QVecTime\n",
    "from galax.coordinates._psp.base_psp import AbstractPhaseSpacePosition\n",
    "from galax.dynamics._dynamics.mockstream.utils import cond_reverse"
   ]
  },
  {
   "cell_type": "markdown",
   "id": "c9298be9-8462-4369-91ff-3cec324b622f",
   "metadata": {},
   "source": [
    "**First, define a new translation operator class that moves a potential**"
   ]
  },
  {
   "cell_type": "code",
   "execution_count": 5,
   "id": "a4048a1d-404a-4945-abc6-98364dc380f2",
   "metadata": {},
   "outputs": [],
   "source": [
    "@final\n",
    "class MovingOperator(AbstractOperator):\n",
    "\n",
    "    q_array: AbstractPosition3D\n",
    "    t_array: QVecTime\n",
    "    \n",
    "    @property\n",
    "    def is_inertial(self) -> Literal[True]:\n",
    "        return True\n",
    "\n",
    "    @property\n",
    "    def inverse(self) -> \"MovingOperator\":\n",
    "        return MovingOperator(q_array=-self.q_array, t_array=self.t_array)\n",
    "\n",
    "    @property\n",
    "    def q_cart(self) -> CartesianPosition3D:\n",
    "        return self.q_array.represent_as(CartesianPosition3D)\n",
    "\n",
    "    @op_call_dispatch(precedence=1)\n",
    "    def __call__(\n",
    "        self: \"MovingOperator\",\n",
    "        q: Quantity[\"length\"],\n",
    "        t: Quantity[\"time\"],\n",
    "        /,\n",
    "    ) -> tuple[Quantity[\"length\"], Quantity[\"time\"]]:\n",
    "\n",
    "        t_correct_unit = t.to_units_value(t_array.unit)\n",
    "\n",
    "        dx = jnp.interp(t_correct_unit, self.t_array.value, self.q_cart.x.value)\n",
    "        dy = jnp.interp(t_correct_unit, self.t_array.value, self.q_cart.y.value)\n",
    "        dz = jnp.interp(t_correct_unit, self.t_array.value, self.q_cart.z.value)\n",
    "        dq = Quantity([dx,dy,dz], self.q_cart.x.unit)\n",
    "        return (q + dq, t)\n",
    "\n",
    "    @op_call_dispatch(precedence=1)\n",
    "    def __call__(\n",
    "        self: \"MovingOperator\",\n",
    "        vec: AbstractPosition3D,\n",
    "        t: Quantity[\"time\"],\n",
    "        /,\n",
    "    ) -> tuple[AbstractPosition3D, Quantity[\"time\"]]:\n",
    "\n",
    "        q = convert(vec.represent_as(CartesianPosition3D), Quantity)\n",
    "        qp, tp = self(q, t)\n",
    "        vecp = CartesianPosition3D.constructor(qp).represent_as(type(vec))\n",
    "        return (vecp, tp)\n",
    "\n",
    "    @op_call_dispatch\n",
    "    def __call__(\n",
    "        self: \"MovingOperator\", \n",
    "        psp: AbstractPhaseSpacePosition, \n",
    "        /,\n",
    "    ) -> AbstractPhaseSpacePosition:\n",
    "\n",
    "        q, t = self(psp.q, psp.t)\n",
    "        p = psp.p.represent_as(CartesianVelocity3D, psp.q).represent_as(type(psp.p), q)\n",
    "        # Reasseble and return\n",
    "        return replace(psp, q=q, p=p, t=t)"
   ]
  },
  {
   "cell_type": "markdown",
   "id": "fba02767-19e1-4880-82d9-c2289bdf8d26",
   "metadata": {},
   "source": [
    "**Next, generate initial conditions and integrate the orbits**"
   ]
  },
  {
   "cell_type": "code",
   "execution_count": 6,
   "id": "fd3c257f-923a-4d01-850e-8dacb500c38a",
   "metadata": {},
   "outputs": [],
   "source": [
    "def run_with_prog(rng, df, pot, ts, prog_w0, prog_mass, prog_pot, vmapped=None):\n",
    "    \n",
    "    # Parse vmapped\n",
    "    use_vmap = get_backend().platform == \"gpu\" if vmapped is None else vmapped\n",
    "    \n",
    "    ts = cond_reverse(ts[1] < ts[0], ts)\n",
    "    prog_orbit = pot.evaluate_orbit(prog_w0, t=ts)\n",
    "    \n",
    "    arg = jnp.argsort(prog_orbit.t.value)\n",
    "    op = MovingOperator(q_array=prog_orbit.q[arg], t_array=prog_orbit.t[arg])\n",
    "        \n",
    "    prog_pot_moving = gp.PotentialFrame(original_potential=prog_pot, operator=op)\n",
    "    pot_tot = pot + prog_pot_moving\n",
    "    \n",
    "    gen = gd.MockStreamGenerator(df, pot_tot)\n",
    "    \n",
    "    # Generate initial conditions\n",
    "    mock0 = df.sample(jr.key(0), pot, prog_orbit, prog_mass)\n",
    "    \n",
    "    # Integrate the orbit\n",
    "    if use_vmap:\n",
    "        lead_arm_w, trail_arm_w = gen._run_vmap(ts, mock0[\"lead\"], mock0[\"trail\"])\n",
    "    else:\n",
    "        lead_arm_w, trail_arm_w = gen._run_scan(ts, mock0[\"lead\"], mock0[\"trail\"])\n",
    "    \n",
    "    comps = {}\n",
    "    comps[\"lead\"] = gd.MockStreamArm(\n",
    "        q=Quantity(lead_arm_w[:, 0:3], gen.units[\"length\"]),\n",
    "        p=Quantity(lead_arm_w[:, 3:6], gen.units[\"speed\"]),\n",
    "        t=ts,\n",
    "        release_time=mock0[\"lead\"].release_time,\n",
    "    )\n",
    "    comps[\"trail\"] = gd.MockStreamArm(\n",
    "        q=Quantity(trail_arm_w[:, 0:3], gen.units[\"length\"]),\n",
    "        p=Quantity(trail_arm_w[:, 3:6], gen.units[\"speed\"]),\n",
    "        t=ts,\n",
    "        release_time=mock0[\"trail\"].release_time,\n",
    "    )\n",
    "    \n",
    "    return gd.MockStream(comps), prog_orbit[-1]"
   ]
  },
  {
   "cell_type": "code",
   "execution_count": 7,
   "id": "8dac34d1-6a3f-4a1a-b514-bef0b44d4aff",
   "metadata": {},
   "outputs": [
    {
     "name": "stdout",
     "output_type": "stream",
     "text": [
      "CPU times: user 11.1 s, sys: 522 ms, total: 11.6 s\n",
      "Wall time: 12.3 s\n"
     ]
    }
   ],
   "source": [
    "# Chen+24 (with prog.)\n",
    "\n",
    "with warnings.catch_warnings():\n",
    "    warnings.filterwarnings(\"ignore\")\n",
    "    df = gd.ChenStreamDF()\n",
    "        \n",
    "prog_pot = gp.PlummerPotential(m_tot=prog_mass, b=Quantity(4, 'pc'), units='galactic')\n",
    "%time stream_c24b, _ = run_with_prog(jr.key(0), df, pot, t_array, w, prog_mass, prog_pot)"
   ]
  },
  {
   "cell_type": "code",
   "execution_count": 8,
   "id": "93cf64a8-aa4a-444f-8aea-19859465d4bd",
   "metadata": {},
   "outputs": [
    {
     "data": {
      "image/png": "[encoded data removed]",
      "text/plain": [
       "<Figure size 640x480 with 1 Axes>"
      ]
     },
     "metadata": {},
     "output_type": "display_data"
    }
   ],
   "source": [
    "plt.scatter(stream_f15.q.x.value-5, stream_f15.q.y.value, s=1, alpha=0.5, label='Fardal+15')\n",
    "plt.scatter(stream_c24.q.x.value, stream_c24.q.y.value, s=1, alpha=0.5, label='Chen+24 no prog.')\n",
    "plt.scatter(stream_c24b.q.x.value+5, stream_c24b.q.y.value, s=1, alpha=0.5, label='Chen+24 with prog.')\n",
    "\n",
    "plt.xlabel(r'$x\\ ({\\rm kpc})$')\n",
    "plt.ylabel(r'$y\\ ({\\rm kpc})$')\n",
    "plt.xlim(25, 50)\n",
    "plt.ylim(-15, 15)\n",
    "plt.legend(loc='lower left')\n",
    "plt.gca().set_aspect(1)\n",
    "plt.show()"
   ]
  }
 ],
 "metadata": {
  "kernelspec": {
   "display_name": "Python [conda env:my_galax]",
   "language": "python",
   "name": "conda-env-my_galax-py"
  },
  "language_info": {
   "codemirror_mode": {
    "name": "ipython",
    "version": 3
   },
   "file_extension": ".py",
   "mimetype": "text/x-python",
   "name": "python",
   "nbconvert_exporter": "python",
   "pygments_lexer": "ipython3",
   "version": "3.12.4"
  }
 },
 "nbformat": 4,
 "nbformat_minor": 5
}
