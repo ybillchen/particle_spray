{
 "cells": [
  {
   "cell_type": "markdown",
   "id": "4d1dd9eb-c771-4547-b10d-172fe61cb9ed",
   "metadata": {},
   "source": [
    "# Particle spray algorithm by Chen et al. (2024)\n",
    "\n",
    "Author: Yingtian \"Bill\" Chen\n",
    "\n",
    "We provide a notebook to generate streams using the Chen+24 ([arXiv:2408.01496](https://arxiv.org/abs/2408.01496)) model via `galax`. This implementation has not yet been merged to the `main` branch of `galax`. Also, `galax` cuurently doesn't support orbit integration with the progenitor's potential, which is essential for our model. But you can still play with it by checking out my fork of `galax`. To do so, you need to\n",
    "\n",
    "1. (Optional) Create a new virtual environment in case you already have your own `galax` and don't want to mess it up. And make sure you are using `python >= 3.10`\n",
    "```\n",
    "$ conda create --name galax_chen24 python=3.12\n",
    "$ conda activate galax_chen24\n",
    "```\n",
    "\n",
    "2. To properly use `galax`, make sure you have installed `gala`. If not, follow the [installation instructuon of `gala`](https://gala.adrian.pw/en/latest/install.html)\n",
    "\n",
    "2. Clone my fork of `gala` and checkout the corret branch\n",
    "```\n",
    "$ git clone https://github.com/ybillchen/galax_chen24.git\n",
    "$ cd galax_chen24\n",
    "$ git checkout stream_df_chen24\n",
    "```\n",
    "\n",
    "3. Install the package\n",
    "```\n",
    "$ python -m pip install .\n",
    "```\n",
    "\n",
    "4. (Optional) Don't forget to switch the kernel of this notebook to the virtual environment you have just created! To do so, you need to install `ipykernel`\n",
    "\n",
    "Then you are done! Let's checkout what you can do now."
   ]
  },
  {
   "cell_type": "code",
   "execution_count": 1,
   "id": "3a764d8a-dcd2-47a1-90f3-9e4f8ce3b1a9",
   "metadata": {},
   "outputs": [],
   "source": [
    "import numpy as np\n",
    "import matplotlib.pyplot as plt\n",
    "\n",
    "import jax.random as jr\n",
    "\n",
    "from unxt import Quantity\n",
    "import galax.coordinates as gc\n",
    "import galax.potential as gp\n",
    "import galax.dynamics as gd"
   ]
  },
  {
   "cell_type": "code",
   "execution_count": 2,
   "id": "3197b24b-c4fd-4ced-9660-4a73ec9abaad",
   "metadata": {},
   "outputs": [],
   "source": [
    "pot = gp.BovyMWPotential2014()\n",
    "\n",
    "w = gc.PhaseSpacePosition(q=Quantity([40, 0, 0], \"kpc\"),\n",
    "                          p=Quantity([0, 100, 0], \"km/s\"),\n",
    "                          t=Quantity(0, \"Gyr\"))\n",
    "\n",
    "prog_orbit = pot.evaluate_orbit(w, t=Quantity([0, 1, 2], \"Gyr\"))\n",
    "prog_mass = Quantity(1e5, \"Msun\")"
   ]
  },
  {
   "cell_type": "code",
   "execution_count": 3,
   "id": "6251c9f8-a432-454b-9a84-c50f994c93b2",
   "metadata": {},
   "outputs": [
    {
     "ename": "NameError",
     "evalue": "name 'np' is not defined",
     "output_type": "error",
     "traceback": [
      "\u001b[0;31m---------------------------------------------------------------------------\u001b[0m",
      "\u001b[0;31mNameError\u001b[0m                                 Traceback (most recent call last)",
      "File \u001b[0;32m<timed exec>:1\u001b[0m\n",
      "\u001b[0;31mNameError\u001b[0m: name 'np' is not defined"
     ]
    },
    {
     "ename": "NameError",
     "evalue": "name 'np' is not defined",
     "output_type": "error",
     "traceback": [
      "\u001b[0;31m---------------------------------------------------------------------------\u001b[0m",
      "\u001b[0;31mNameError\u001b[0m                                 Traceback (most recent call last)",
      "File \u001b[0;32m<timed exec>:1\u001b[0m\n",
      "\u001b[0;31mNameError\u001b[0m: name 'np' is not defined"
     ]
    }
   ],
   "source": [
    "# Fardal+15\n",
    "df = gd.FardalStreamDF()\n",
    "gen = gd.MockStreamGenerator(df, pot)\n",
    "%time stream_f15, _ = gen.run(jr.key(0),Quantity(np.arange(500+1)*6, \"Myr\"), w, prog_mass)\n",
    "\n",
    "# Chen+24 (no prog.)\n",
    "df = gd.ChenStreamDF()\n",
    "gen = gd.MockStreamGenerator(df, pot)\n",
    "%time stream_c24, _ = gen.run(jr.key(0),Quantity(np.arange(500+1)*6, \"Myr\"), w, prog_mass)"
   ]
  },
  {
   "cell_type": "code",
   "execution_count": 4,
   "id": "b67a6cc1-e5f1-46dd-b84f-31cf3f8edb87",
   "metadata": {},
   "outputs": [
    {
     "ename": "NameError",
     "evalue": "name 'stream_f15' is not defined",
     "output_type": "error",
     "traceback": [
      "\u001b[0;31m---------------------------------------------------------------------------\u001b[0m",
      "\u001b[0;31mNameError\u001b[0m                                 Traceback (most recent call last)",
      "Cell \u001b[0;32mIn[4], line 1\u001b[0m\n\u001b[0;32m----> 1\u001b[0m plt\u001b[38;5;241m.\u001b[39mscatter(stream_f15\u001b[38;5;241m.\u001b[39mq\u001b[38;5;241m.\u001b[39mx\u001b[38;5;241m.\u001b[39mvalue\u001b[38;5;241m-\u001b[39m\u001b[38;5;241m5\u001b[39m, stream_f15\u001b[38;5;241m.\u001b[39mq\u001b[38;5;241m.\u001b[39my\u001b[38;5;241m.\u001b[39mvalue, s\u001b[38;5;241m=\u001b[39m\u001b[38;5;241m1\u001b[39m, alpha\u001b[38;5;241m=\u001b[39m\u001b[38;5;241m0.5\u001b[39m, label\u001b[38;5;241m=\u001b[39m\u001b[38;5;124m'\u001b[39m\u001b[38;5;124mFardal+15\u001b[39m\u001b[38;5;124m'\u001b[39m)\n\u001b[1;32m      2\u001b[0m plt\u001b[38;5;241m.\u001b[39mscatter(stream_c24\u001b[38;5;241m.\u001b[39mq\u001b[38;5;241m.\u001b[39mx\u001b[38;5;241m.\u001b[39mvalue, stream_c24\u001b[38;5;241m.\u001b[39mq\u001b[38;5;241m.\u001b[39my\u001b[38;5;241m.\u001b[39mvalue, s\u001b[38;5;241m=\u001b[39m\u001b[38;5;241m1\u001b[39m, alpha\u001b[38;5;241m=\u001b[39m\u001b[38;5;241m0.5\u001b[39m, label\u001b[38;5;241m=\u001b[39m\u001b[38;5;124m'\u001b[39m\u001b[38;5;124mChen+24 no prog.\u001b[39m\u001b[38;5;124m'\u001b[39m)\n\u001b[1;32m      4\u001b[0m plt\u001b[38;5;241m.\u001b[39mxlabel(\u001b[38;5;124mr\u001b[39m\u001b[38;5;124m'\u001b[39m\u001b[38;5;124m$x\u001b[39m\u001b[38;5;124m\\\u001b[39m\u001b[38;5;124m (\u001b[39m\u001b[38;5;124m{\u001b[39m\u001b[38;5;124m\\\u001b[39m\u001b[38;5;124mrm kpc})$\u001b[39m\u001b[38;5;124m'\u001b[39m)\n",
      "\u001b[0;31mNameError\u001b[0m: name 'stream_f15' is not defined"
     ]
    }
   ],
   "source": [
    "plt.scatter(stream_f15.q.x.value-5, stream_f15.q.y.value, s=1, alpha=0.5, label='Fardal+15')\n",
    "plt.scatter(stream_c24.q.x.value, stream_c24.q.y.value, s=1, alpha=0.5, label='Chen+24 no prog.')\n",
    "\n",
    "plt.xlabel(r'$x\\ ({\\rm kpc})$')\n",
    "plt.ylabel(r'$y\\ ({\\rm kpc})$')\n",
    "plt.xlim(-30, 10)\n",
    "plt.ylim(-20, 15)\n",
    "plt.legend()\n",
    "plt.gca().set_aspect(1)\n",
    "plt.show()"
   ]
  }
 ],
 "metadata": {
  "kernelspec": {
   "display_name": "Python [conda env:my_galax]",
   "language": "python",
   "name": "conda-env-my_galax-py"
  },
  "language_info": {
   "codemirror_mode": {
    "name": "ipython",
    "version": 3
   },
   "file_extension": ".py",
   "mimetype": "text/x-python",
   "name": "python",
   "nbconvert_exporter": "python",
   "pygments_lexer": "ipython3",
   "version": "3.12.4"
  }
 },
 "nbformat": 4,
 "nbformat_minor": 5
}
